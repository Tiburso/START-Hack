{
 "cells": [
  {
   "cell_type": "code",
   "execution_count": 3,
   "metadata": {},
   "outputs": [],
   "source": [
    "import requests\n",
    "from datetime import datetime\n",
    "from base64 import b64decode, b64encode\n",
    "\n",
    "URL = \"http://localhost/api/v1\""
   ]
  },
  {
   "cell_type": "code",
   "execution_count": 4,
   "metadata": {},
   "outputs": [],
   "source": [
    "user = \"admin@admin.pt\"\n",
    "password = \"admin1\"\n",
    "\n",
    "encoded = b64encode(f\"{user}:{password}\".encode()).decode()\n",
    "\n",
    "basic = f\"Basic {encoded}\"\n",
    "\n",
    "basic_header = { \"Authorization\": basic }"
   ]
  },
  {
   "cell_type": "code",
   "execution_count": 8,
   "metadata": {},
   "outputs": [],
   "source": [
    "api = \"token bdbfa48fcab6f150b15b22c07c82ab2c11178425\"\n",
    "api_header = { \"Authorization\": api }\n",
    "\n",
    "store_id = 'Apg8Ceso5ZbUuZk7Kww6gkCZ4MJhGjgNveacGRiMCd9N'"
   ]
  },
  {
   "cell_type": "code",
   "execution_count": null,
   "metadata": {},
   "outputs": [],
   "source": [
    "r = requests.get(URL + '/api-keys/current', headers=api_header)\n",
    "print(r.content, r.status_code, r.reason)"
   ]
  },
  {
   "cell_type": "code",
   "execution_count": null,
   "metadata": {},
   "outputs": [],
   "source": [
    "r = requests.get(URL + '/stores', headers=api_header)\n",
    "print(r.content, r.status_code)"
   ]
  },
  {
   "cell_type": "code",
   "execution_count": null,
   "metadata": {},
   "outputs": [],
   "source": [
    "store_id = 'Apg8Ceso5ZbUuZk7Kww6gkCZ4MJhGjgNveacGRiMCd9N'\n",
    "body = {}\n",
    "r = requests.get(URL + '/stores/'+store_id+'/invoices', json=body, headers=api_header)\n",
    "print(r.content, r.status_code)"
   ]
  },
  {
   "cell_type": "code",
   "execution_count": null,
   "metadata": {},
   "outputs": [],
   "source": [
    "store_id = 'Apg8Ceso5ZbUuZk7Kww6gkCZ4MJhGjgNveacGRiMCd9N'\n",
    "body = {'receipt': {'enabled': True, 'showQR': True, 'showPayments': True},\n",
    "    'amount': '0.01'}\n",
    "r = requests.post(URL + '/stores/'+store_id+'/invoices', json=body, headers=api_header)\n",
    "print(r.content, r.status_code)"
   ]
  },
  {
   "cell_type": "code",
   "execution_count": 4,
   "metadata": {},
   "outputs": [
    {
     "name": "stdout",
     "output_type": "stream",
     "text": [
      "b'[{\"activated\":true,\"destination\":\"bc1qtezfjnw5a4fh6e03kwzvdy6q486r4nedr309ww\",\"paymentLink\":\"bitcoin:bc1qtezfjnw5a4fh6e03kwzvdy6q486r4nedr309ww?amount=5.00&pj=http://localhost/BTC/pj\",\"rate\":\"1.0\",\"paymentMethodPaid\":\"0\",\"totalPaid\":\"0\",\"due\":\"5\",\"amount\":\"5\",\"networkFee\":\"0\",\"payments\":[],\"paymentMethod\":\"BTC\",\"cryptoCode\":\"BTC\",\"additionalData\":{}}]' 200 OK\n"
     ]
    }
   ],
   "source": [
    "store_id = 'Apg8Ceso5ZbUuZk7Kww6gkCZ4MJhGjgNveacGRiMCd9N'\n",
    "invoice_id = 'XRanK6FHjHjSK5YYEd8LjM'\n",
    "body = {}\n",
    "r = requests.get(URL + '/stores/'+store_id+'/invoices/'+invoice_id+'/payment-methods', json=body, headers=api_header)\n",
    "print(r.content, r.status_code, r.reason)"
   ]
  },
  {
   "cell_type": "code",
   "execution_count": null,
   "metadata": {},
   "outputs": [],
   "source": [
    "body = {\n",
    "        \"label\": \"admin\",\n",
    "        \"permissions\": [\n",
    "            \"unrestricted\"\n",
    "        ]\n",
    "    }\n",
    "\n",
    "res = requests.post(URL + \"/api-keys\", json=body, headers=basic_header)\n",
    "\n",
    "res.status_code, res.content"
   ]
  },
  {
   "cell_type": "code",
   "execution_count": 10,
   "metadata": {},
   "outputs": [],
   "source": [
    "body = {\n",
    "\n",
    "    \"metadata\": \n",
    "\n",
    "{\n",
    "\n",
    "    \"buyerAddress1\": \"string\"\n",
    "\n",
    "},\n",
    "\"checkout\": \n",
    "{\n",
    "\n",
    "    \"speedPolicy\": \"HighSpeed\",\n",
    "    \"paymentMethods\": \n",
    "\n",
    "    [],\n",
    "    \"defaultPaymentMethod\": \"string\",\n",
    "    \"expirationMinutes\": 90,\n",
    "    \"monitoringMinutes\": 90,\n",
    "    \"paymentTolerance\": 0,\n",
    "    \"redirectURL\": \"string\",\n",
    "    \"redirectAutomatically\": True,\n",
    "    \"requiresRefundEmail\": True,\n",
    "    \"checkoutType\": None,\n",
    "    \"defaultLanguage\": \"string\"\n",
    "\n",
    "},\n",
    "\"receipt\": \n",
    "{\n",
    "\n",
    "    \"enabled\": True,\n",
    "    \"showQR\": None,\n",
    "    \"showPayments\": None\n",
    "\n",
    "},\n",
    "\"amount\": \"5.00\",\n",
    "\"currency\": \"USD\",\n",
    "\"additionalSearchTerms\": \n",
    "\n",
    "    [\n",
    "        \"string\"\n",
    "    ]\n",
    "\n",
    "}"
   ]
  },
  {
   "cell_type": "code",
   "execution_count": 9,
   "metadata": {},
   "outputs": [],
   "source": [
    "user = \"admin@admin.pt\"\n",
    "password = \"admin1\"\n",
    "\n",
    "encoded = b64encode(f\"{user}:{password}\".encode()).decode()\n",
    "\n",
    "basic = f\"Basic {encoded}\"\n",
    "\n",
    "basic_header = { \"Authorization\": basic }"
   ]
  },
  {
   "cell_type": "code",
   "execution_count": null,
   "metadata": {},
   "outputs": [],
   "source": [
    "r = requests.get(URL + '/api-keys/current', headers=api_header)\n",
    "print(r.content, r.status_code, r.reason)"
   ]
  },
  {
   "cell_type": "code",
   "execution_count": 59,
   "metadata": {},
   "outputs": [
    {
     "name": "stdout",
     "output_type": "stream",
     "text": [
      "b'[{\"id\":\"XRanK6FHjHjSK5YYEd8LjM\",\"storeId\":\"Apg8Ceso5ZbUuZk7Kww6gkCZ4MJhGjgNveacGRiMCd9N\",\"amount\":\"5\",\"checkoutLink\":\"http://localhost/i/XRanK6FHjHjSK5YYEd8LjM\",\"status\":\"New\",\"additionalStatus\":\"None\",\"monitoringExpiration\":1679673698,\"expirationTime\":1679587298,\"createdTime\":1679586398,\"availableStatusesForManualMarking\":[\"Settled\",\"Invalid\"],\"archived\":false,\"type\":\"Standard\",\"currency\":\"BTC\",\"metadata\":{},\"checkout\":{\"speedPolicy\":\"MediumSpeed\",\"paymentMethods\":[\"BTC\"],\"defaultPaymentMethod\":null,\"expirationMinutes\":15,\"monitoringMinutes\":1440,\"paymentTolerance\":0.0,\"redirectURL\":null,\"redirectAutomatically\":false,\"requiresRefundEmail\":null,\"defaultLanguage\":null,\"checkoutType\":null},\"receipt\":{\"enabled\":true,\"showQR\":true,\"showPayments\":false}},{\"id\":\"DmgZMKGyCWs5agPgtejZRM\",\"storeId\":\"Apg8Ceso5ZbUuZk7Kww6gkCZ4MJhGjgNveacGRiMCd9N\",\"amount\":\"5\",\"checkoutLink\":\"http://localhost/i/DmgZMKGyCWs5agPgtejZRM\",\"status\":\"Expired\",\"additionalStatus\":\"None\",\"monitoringExpiration\":1679673503,\"expirationTime\":1679587103,\"createdTime\":1679586203,\"availableStatusesForManualMarking\":[],\"archived\":false,\"type\":\"Standard\",\"currency\":\"BTC\",\"metadata\":{},\"checkout\":{\"speedPolicy\":\"MediumSpeed\",\"paymentMethods\":[\"BTC\"],\"defaultPaymentMethod\":null,\"expirationMinutes\":15,\"monitoringMinutes\":1440,\"paymentTolerance\":0.0,\"redirectURL\":null,\"redirectAutomatically\":false,\"requiresRefundEmail\":null,\"defaultLanguage\":null,\"checkoutType\":null},\"receipt\":{\"enabled\":null,\"showQR\":null,\"showPayments\":null}}]' 200\n"
     ]
    }
   ],
   "source": [
    "store_id = 'Apg8Ceso5ZbUuZk7Kww6gkCZ4MJhGjgNveacGRiMCd9N'\n",
    "body = {}\n",
    "r = requests.get(URL + '/stores/'+store_id+'/invoices', json=body, headers=api_header)\n",
    "print(r.content, r.status_code)"
   ]
  },
  {
   "cell_type": "code",
   "execution_count": 60,
   "metadata": {},
   "outputs": [
    {
     "name": "stdout",
     "output_type": "stream",
     "text": [
      "b'[{\"activated\":true,\"destination\":\"bc1qtezfjnw5a4fh6e03kwzvdy6q486r4nedr309ww\",\"paymentLink\":\"bitcoin:bc1qtezfjnw5a4fh6e03kwzvdy6q486r4nedr309ww?amount=5.00&pj=http://localhost/BTC/pj\",\"rate\":\"1.0\",\"paymentMethodPaid\":\"0\",\"totalPaid\":\"0\",\"due\":\"5\",\"amount\":\"5\",\"networkFee\":\"0\",\"payments\":[],\"paymentMethod\":\"BTC\",\"cryptoCode\":\"BTC\",\"additionalData\":{}}]' 200 OK\n"
     ]
    }
   ],
   "source": [
    "store_id = 'Apg8Ceso5ZbUuZk7Kww6gkCZ4MJhGjgNveacGRiMCd9N'\n",
    "invoice_id = 'XRanK6FHjHjSK5YYEd8LjM'\n",
    "body = {}\n",
    "r = requests.get(URL + '/stores/'+store_id+'/invoices/'+invoice_id+'/payment-methods', json=body, headers=api_header)\n",
    "print(r.content, r.status_code, r.reason)"
   ]
  },
  {
   "cell_type": "code",
   "execution_count": 12,
   "metadata": {},
   "outputs": [],
   "source": [
    "body = {\n",
    "\n",
    "    \"metadata\": \n",
    "\n",
    "{\n",
    "\n",
    "    \"buyerAddress1\": \"string\"\n",
    "\n",
    "},\n",
    "\"checkout\": \n",
    "{\n",
    "\n",
    "    \"speedPolicy\": \"HighSpeed\",\n",
    "    \"paymentMethods\": \n",
    "\n",
    "    [],\n",
    "    \"defaultPaymentMethod\": \"string\",\n",
    "    \"expirationMinutes\": 90,\n",
    "    \"monitoringMinutes\": 90,\n",
    "    \"paymentTolerance\": 0,\n",
    "    \"redirectURL\": \"string\",\n",
    "    \"redirectAutomatically\": True,\n",
    "    \"requiresRefundEmail\": True,\n",
    "    \"checkoutType\": None,\n",
    "    \"defaultLanguage\": \"string\"\n",
    "\n",
    "},\n",
    "\"receipt\": \n",
    "{\n",
    "\n",
    "    \"enabled\": True,\n",
    "    \"showQR\": None,\n",
    "    \"showPayments\": None\n",
    "\n",
    "},\n",
    "\"amount\": \"5.00\",\n",
    "\"currency\": \"USD\",\n",
    "\"additionalSearchTerms\": \n",
    "\n",
    "    [\n",
    "        \"string\"\n",
    "    ]\n",
    "\n",
    "}"
   ]
  },
  {
   "cell_type": "code",
   "execution_count": 13,
   "metadata": {},
   "outputs": [],
   "source": [
    "ret_val =  0.000075\n",
    "timestamp = int(datetime.now().timestamp())\n",
    "        \n",
    "body = {\n",
    "    \"name\": \"Return fee\",\n",
    "    \"description\": \"Value returned to vault wallet\",\n",
    "    \"amount\": ret_val,\n",
    "    \"currency\": \"BTC\",\n",
    "    \"period\": 604800, # check period \n",
    "    \"autoApproveClaims\": True,\n",
    "    \"startsAt\": timestamp,\n",
    "    \"expiresAt\": timestamp + 60 * 5, # five minutes to deliver payment to main wallet\n",
    "    \"paymentMethods\": \n",
    "    [\n",
    "        \"BTC\"\n",
    "    ]\n",
    "}\n",
    "\n",
    "res = requests.post(URL + f\"/stores/{store_id}/pull-payments\", json=body, headers=api_header)"
   ]
  },
  {
   "cell_type": "code",
   "execution_count": 11,
   "metadata": {},
   "outputs": [
    {
     "data": {
      "text/plain": [
       "(200,\n",
       " b'{\"date\":1679620361,\"id\":\"3fAswZya4L5yiXoNVAWVRFCSpKuu\",\"pullPaymentId\":\"3DEjnT3qiPBM8CuyPfpEkWmqWLea\",\"destination\":\"bc1q3dkl4mwdk85dx9kezn3ctaa08e2l05lf5xhn4x\",\"paymentMethod\":\"BTC\",\"cryptoCode\":\"BTC\",\"amount\":\"0.00005\",\"paymentMethodAmount\":\"0.00005\",\"state\":\"AwaitingPayment\",\"revision\":0,\"paymentProof\":null}')"
      ]
     },
     "execution_count": 11,
     "metadata": {},
     "output_type": "execute_result"
    }
   ],
   "source": [
    "pullPaymentId = \"3DEjnT3qiPBM8CuyPfpEkWmqWLea\"\n",
    "        \n",
    "# finalize that pull payment with a payout\n",
    "body = {\n",
    "    \"destination\":  \"bc1q3dkl4mwdk85dx9kezn3ctaa08e2l05lf5xhn4x\",\n",
    "    \"amount\": ret_val,\n",
    "    \"paymentMethod\": \"BTC\"\n",
    "}\n",
    "\n",
    "res = requests.post(URL + f\"/pull-payments/{pullPaymentId}/payouts\", json=body, headers=api_header)\n",
    "\n",
    "res.status_code, res.content"
   ]
  }
 ],
 "metadata": {
  "kernelspec": {
   "display_name": "Python 3",
   "language": "python",
   "name": "python3"
  },
  "language_info": {
   "codemirror_mode": {
    "name": "ipython",
    "version": 3
   },
   "file_extension": ".py",
   "mimetype": "text/x-python",
   "name": "python",
   "nbconvert_exporter": "python",
   "pygments_lexer": "ipython3",
   "version": "3.10.6"
  },
  "orig_nbformat": 4
 },
 "nbformat": 4,
 "nbformat_minor": 2
}
