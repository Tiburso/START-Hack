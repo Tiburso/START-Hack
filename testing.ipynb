{
 "cells": [
  {
   "cell_type": "code",
   "execution_count": 25,
   "metadata": {},
   "outputs": [],
   "source": [
    "import requests\n",
    "\n",
    "from base64 import b64decode, b64encode\n",
    "\n",
    "URL = \"http://localhost/api/v1\""
   ]
  },
  {
   "cell_type": "code",
   "execution_count": null,
   "metadata": {},
   "outputs": [],
   "source": [
    "user = \"admin@admin.pt\"\n",
    "password = \"admin1\"\n",
    "\n",
    "encoded = b64encode(f\"{user}:{password}\".encode()).decode()\n",
    "\n",
    "basic = f\"Basic {encoded}\"\n",
    "\n",
    "basic_header = { \"Authorization\": basic }"
   ]
  },
  {
   "cell_type": "code",
   "execution_count": null,
   "metadata": {},
   "outputs": [],
   "source": [
    "api = \"token bdbfa48fcab6f150b15b22c07c82ab2c11178425\"\n",
    "api_header = { \"Authorization\": api }"
   ]
  },
  {
   "cell_type": "code",
   "execution_count": null,
   "metadata": {},
   "outputs": [],
   "source": [
    "r = requests.get(URL + '/api-keys/current', headers=api_header)\n",
    "print(r.content, r.status_code, r.reason)"
   ]
  },
  {
   "cell_type": "code",
   "execution_count": 55,
   "metadata": {},
   "outputs": [
    {
     "name": "stdout",
     "output_type": "stream",
     "text": [
      "b'[{\"id\":\"Apg8Ceso5ZbUuZk7Kww6gkCZ4MJhGjgNveacGRiMCd9N\",\"name\":\"Development\",\"website\":null,\"invoiceExpiration\":900,\"displayExpirationTimer\":300,\"monitoringExpiration\":86400,\"speedPolicy\":\"MediumSpeed\",\"lightningDescriptionTemplate\":\"Paid to {StoreName} (Order ID: {OrderId})\",\"paymentTolerance\":0.0,\"anyoneCanCreateInvoice\":false,\"defaultCurrency\":null,\"requiresRefundEmail\":false,\"checkoutType\":\"V1\",\"lightningAmountInSatoshi\":false,\"lightningPrivateRouteHints\":false,\"onChainWithLnInvoiceFallback\":false,\"lazyPaymentMethods\":false,\"redirectAutomatically\":false,\"showRecommendedFee\":true,\"recommendedFeeBlockTarget\":1,\"defaultPaymentMethod\":null,\"customLogo\":null,\"customCSS\":null,\"htmlTitle\":null,\"networkFeeMode\":\"MultiplePaymentsOnly\",\"paymentMethodCriteria\":[],\"payJoinEnabled\":true,\"receipt\":{\"enabled\":true,\"showQR\":true,\"showPayments\":true}},{\"id\":\"DNYmsAZkY6B5aQ2kpuxZvsEvnxvvAhKdrnx6b1Z9r3Lo\",\"name\":\"Hash Game Store\",\"website\":null,\"invoiceExpiration\":900,\"displayExpirationTimer\":300,\"monitoringExpiration\":86400,\"speedPolicy\":\"MediumSpeed\",\"lightningDescriptionTemplate\":\"Paid to {StoreName} (Order ID: {OrderId})\",\"paymentTolerance\":0.0,\"anyoneCanCreateInvoice\":false,\"defaultCurrency\":null,\"requiresRefundEmail\":false,\"checkoutType\":\"V1\",\"lightningAmountInSatoshi\":false,\"lightningPrivateRouteHints\":false,\"onChainWithLnInvoiceFallback\":false,\"lazyPaymentMethods\":false,\"redirectAutomatically\":false,\"showRecommendedFee\":true,\"recommendedFeeBlockTarget\":1,\"defaultPaymentMethod\":null,\"customLogo\":null,\"customCSS\":null,\"htmlTitle\":null,\"networkFeeMode\":\"MultiplePaymentsOnly\",\"paymentMethodCriteria\":[],\"payJoinEnabled\":true,\"receipt\":{\"enabled\":true,\"showQR\":true,\"showPayments\":true}}]' 200\n"
     ]
    }
   ],
   "source": [
    "r = requests.get(URL + '/stores', headers=api_header)\n",
    "print(r.content, r.status_code)"
   ]
  },
  {
   "cell_type": "code",
   "execution_count": 59,
   "metadata": {},
   "outputs": [
    {
     "name": "stdout",
     "output_type": "stream",
     "text": [
      "b'[{\"id\":\"XRanK6FHjHjSK5YYEd8LjM\",\"storeId\":\"Apg8Ceso5ZbUuZk7Kww6gkCZ4MJhGjgNveacGRiMCd9N\",\"amount\":\"5\",\"checkoutLink\":\"http://localhost/i/XRanK6FHjHjSK5YYEd8LjM\",\"status\":\"New\",\"additionalStatus\":\"None\",\"monitoringExpiration\":1679673698,\"expirationTime\":1679587298,\"createdTime\":1679586398,\"availableStatusesForManualMarking\":[\"Settled\",\"Invalid\"],\"archived\":false,\"type\":\"Standard\",\"currency\":\"BTC\",\"metadata\":{},\"checkout\":{\"speedPolicy\":\"MediumSpeed\",\"paymentMethods\":[\"BTC\"],\"defaultPaymentMethod\":null,\"expirationMinutes\":15,\"monitoringMinutes\":1440,\"paymentTolerance\":0.0,\"redirectURL\":null,\"redirectAutomatically\":false,\"requiresRefundEmail\":null,\"defaultLanguage\":null,\"checkoutType\":null},\"receipt\":{\"enabled\":true,\"showQR\":true,\"showPayments\":false}},{\"id\":\"DmgZMKGyCWs5agPgtejZRM\",\"storeId\":\"Apg8Ceso5ZbUuZk7Kww6gkCZ4MJhGjgNveacGRiMCd9N\",\"amount\":\"5\",\"checkoutLink\":\"http://localhost/i/DmgZMKGyCWs5agPgtejZRM\",\"status\":\"Expired\",\"additionalStatus\":\"None\",\"monitoringExpiration\":1679673503,\"expirationTime\":1679587103,\"createdTime\":1679586203,\"availableStatusesForManualMarking\":[],\"archived\":false,\"type\":\"Standard\",\"currency\":\"BTC\",\"metadata\":{},\"checkout\":{\"speedPolicy\":\"MediumSpeed\",\"paymentMethods\":[\"BTC\"],\"defaultPaymentMethod\":null,\"expirationMinutes\":15,\"monitoringMinutes\":1440,\"paymentTolerance\":0.0,\"redirectURL\":null,\"redirectAutomatically\":false,\"requiresRefundEmail\":null,\"defaultLanguage\":null,\"checkoutType\":null},\"receipt\":{\"enabled\":null,\"showQR\":null,\"showPayments\":null}}]' 200\n"
     ]
    }
   ],
   "source": [
    "store_id = 'Apg8Ceso5ZbUuZk7Kww6gkCZ4MJhGjgNveacGRiMCd9N'\n",
    "body = {}\n",
    "r = requests.get(URL + '/stores/'+store_id+'/invoices', json=body, headers=api_header)\n",
    "print(r.content, r.status_code)"
   ]
  },
  {
   "cell_type": "code",
   "execution_count": 66,
   "metadata": {},
   "outputs": [
    {
     "name": "stdout",
     "output_type": "stream",
     "text": [
      "b'{\"id\":\"4DTUgLy5LFkYUxYN2LLxTA\",\"storeId\":\"Apg8Ceso5ZbUuZk7Kww6gkCZ4MJhGjgNveacGRiMCd9N\",\"amount\":\"0.01\",\"checkoutLink\":\"http://localhost/i/4DTUgLy5LFkYUxYN2LLxTA\",\"status\":\"New\",\"additionalStatus\":\"None\",\"monitoringExpiration\":1679674923,\"expirationTime\":1679588523,\"createdTime\":1679587623,\"availableStatusesForManualMarking\":[\"Settled\",\"Invalid\"],\"archived\":false,\"type\":\"Standard\",\"currency\":\"BTC\",\"metadata\":{},\"checkout\":{\"speedPolicy\":\"MediumSpeed\",\"paymentMethods\":[\"BTC\"],\"defaultPaymentMethod\":null,\"expirationMinutes\":15,\"monitoringMinutes\":1440,\"paymentTolerance\":0.0,\"redirectURL\":null,\"redirectAutomatically\":false,\"requiresRefundEmail\":null,\"defaultLanguage\":null,\"checkoutType\":null},\"receipt\":{\"enabled\":true,\"showQR\":true,\"showPayments\":true}}' 200\n"
     ]
    }
   ],
   "source": [
    "store_id = 'Apg8Ceso5ZbUuZk7Kww6gkCZ4MJhGjgNveacGRiMCd9N'\n",
    "body = {'receipt': {'enabled': True, 'showQR': True, 'showPayments': True},\n",
    "    'amount': '0.01'}\n",
    "r = requests.post(URL + '/stores/'+store_id+'/invoices', json=body, headers=api_header)\n",
    "print(r.content, r.status_code)"
   ]
  },
  {
   "cell_type": "code",
   "execution_count": 60,
   "metadata": {},
   "outputs": [
    {
     "name": "stdout",
     "output_type": "stream",
     "text": [
      "b'[{\"activated\":true,\"destination\":\"bc1qtezfjnw5a4fh6e03kwzvdy6q486r4nedr309ww\",\"paymentLink\":\"bitcoin:bc1qtezfjnw5a4fh6e03kwzvdy6q486r4nedr309ww?amount=5.00&pj=http://localhost/BTC/pj\",\"rate\":\"1.0\",\"paymentMethodPaid\":\"0\",\"totalPaid\":\"0\",\"due\":\"5\",\"amount\":\"5\",\"networkFee\":\"0\",\"payments\":[],\"paymentMethod\":\"BTC\",\"cryptoCode\":\"BTC\",\"additionalData\":{}}]' 200 OK\n"
     ]
    }
   ],
   "source": [
    "store_id = 'Apg8Ceso5ZbUuZk7Kww6gkCZ4MJhGjgNveacGRiMCd9N'\n",
    "invoice_id = 'XRanK6FHjHjSK5YYEd8LjM'\n",
    "body = {}\n",
    "r = requests.get(URL + '/stores/'+store_id+'/invoices/'+invoice_id+'/payment-methods', json=body, headers=api_header)\n",
    "print(r.content, r.status_code, r.reason)"
   ]
  },
  {
   "cell_type": "code",
   "execution_count": 28,
   "metadata": {},
   "outputs": [
    {
     "data": {
      "text/plain": [
       "(200,\n",
       " b'{\"apiKey\":\"bdbfa48fcab6f150b15b22c07c82ab2c11178425\",\"label\":\"admin\",\"permissions\":[\"unrestricted\"]}')"
      ]
     },
     "execution_count": 28,
     "metadata": {},
     "output_type": "execute_result"
    }
   ],
   "source": [
    "body = {\n",
    "        \"label\": \"admin\",\n",
    "        \"permissions\": [\n",
    "            \"unrestricted\"\n",
    "        ]\n",
    "    }\n",
    "\n",
    "res = requests.post(URL + \"/api-keys\", json=body, headers=basic_header)\n",
    "\n",
    "res.status_code, res.content"
   ]
  },
  {
   "cell_type": "code",
   "execution_count": null,
   "metadata": {},
   "outputs": [],
   "source": [
    "body = {\n",
    "\n",
    "    \"metadata\": \n",
    "\n",
    "{\n",
    "\n",
    "    \"buyerAddress1\": \"string\"\n",
    "\n",
    "},\n",
    "\"checkout\": \n",
    "{\n",
    "\n",
    "    \"speedPolicy\": \"HighSpeed\",\n",
    "    \"paymentMethods\": \n",
    "\n",
    "    [],\n",
    "    \"defaultPaymentMethod\": \"string\",\n",
    "    \"expirationMinutes\": 90,\n",
    "    \"monitoringMinutes\": 90,\n",
    "    \"paymentTolerance\": 0,\n",
    "    \"redirectURL\": \"string\",\n",
    "    \"redirectAutomatically\": True,\n",
    "    \"requiresRefundEmail\": True,\n",
    "    \"checkoutType\": None,\n",
    "    \"defaultLanguage\": \"string\"\n",
    "\n",
    "},\n",
    "\"receipt\": \n",
    "{\n",
    "\n",
    "    \"enabled\": True,\n",
    "    \"showQR\": None,\n",
    "    \"showPayments\": None\n",
    "\n",
    "},\n",
    "\"amount\": \"5.00\",\n",
    "\"currency\": \"USD\",\n",
    "\"additionalSearchTerms\": \n",
    "\n",
    "    [\n",
    "        \"string\"\n",
    "    ]\n",
    "\n",
    "}"
   ]
  }
 ],
 "metadata": {
  "kernelspec": {
   "display_name": "Python 3",
   "language": "python",
   "name": "python3"
  },
  "language_info": {
   "codemirror_mode": {
    "name": "ipython",
    "version": 3
   },
   "file_extension": ".py",
   "mimetype": "text/x-python",
   "name": "python",
   "nbconvert_exporter": "python",
   "pygments_lexer": "ipython3",
   "version": "3.10.6"
  },
  "orig_nbformat": 4
 },
 "nbformat": 4,
 "nbformat_minor": 2
}
